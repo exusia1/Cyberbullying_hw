{
  "nbformat": 4,
  "nbformat_minor": 0,
  "metadata": {
    "colab": {
      "name": "Lab3.ipynb",
      "provenance": [],
      "collapsed_sections": [],
      "authorship_tag": "ABX9TyMMCUV73P9tq9Mi73Y1oD1F",
      "include_colab_link": true
    },
    "kernelspec": {
      "name": "python3",
      "display_name": "Python 3"
    },
    "language_info": {
      "name": "python"
    }
  },
  "cells": [
    {
      "cell_type": "markdown",
      "metadata": {
        "id": "view-in-github",
        "colab_type": "text"
      },
      "source": [
        "<a href=\"https://colab.research.google.com/github/exusia1/Cyberbullying_hw/blob/main/Lab3.ipynb\" target=\"_parent\"><img src=\"https://colab.research.google.com/assets/colab-badge.svg\" alt=\"Open In Colab\"/></a>"
      ]
    },
    {
      "cell_type": "code",
      "metadata": {
        "id": "QqgWXeVgLXO_"
      },
      "source": [
        "import numpy as np\n",
        "import matplotlib.pyplot as plt\n",
        "from tensorflow import keras\n",
        "from tensorflow.keras.layers import Dense\n",
        "\n",
        "np.random.seed(42)\n",
        "x = np.array([np.random.randint(0, 50) for i in range(12)])\n",
        "y = np.array([np.random.randint(0, 50) for i in range(12)])\n",
        "z = np.array([1.5 * x[i] + 0.5 * y[i] + 3 for i in range(len(x))]) # z = 1.5x + 0.5y + 3"
      ],
      "execution_count": 44,
      "outputs": []
    },
    {
      "cell_type": "code",
      "metadata": {
        "colab": {
          "base_uri": "https://localhost:8080/",
          "height": 366
        },
        "id": "ooN2vitKLaC7",
        "outputId": "7dd70088-20d4-4be0-c28d-e7b14516ae4c"
      },
      "source": [
        "model = keras.Sequential()\n",
        "model.add(Dense(units=1, input_shape=(2,), activation='linear'))\n",
        "model.compile(loss='mean_squared_error', optimizer=keras.optimizers.Adam(0.5))\n",
        "history = model.fit(np.matrix([x, y]).T, z, epochs=500, verbose=0)\n",
        "print(\"Обучение завершено\")\n",
        "print(model.predict(np.matrix([13, 13])))  # 1.5 * 13 + 0.5 * 13 + 3 = 29\n",
        "print(model.predict(np.matrix([13, 4])))  # 1.5 * 13 + 0.5 * 4 + 3 = 24.5\n",
        "print(model.get_weights())\n",
        "axes = plt.subplot()\n",
        "plt.plot(history.history['loss'])\n",
        "plt.grid(True)\n",
        "axes.set(title='loss over epochs')\n",
        "plt.show()"
      ],
      "execution_count": 48,
      "outputs": [
        {
          "output_type": "stream",
          "name": "stdout",
          "text": [
            "Обучение завершено\n",
            "[[28.99944]]\n",
            "[[24.49929]]\n",
            "[array([[1.5000262],\n",
            "       [0.5000166]], dtype=float32), array([2.998882], dtype=float32)]\n"
          ]
        },
        {
          "output_type": "display_data",
          "data": {
            "image/png": "[encoded data removed]",
            "text/plain": [
              "<Figure size 432x288 with 1 Axes>"
            ]
          },
          "metadata": {
            "needs_background": "light"
          }
        }
      ]
    },
    {
      "cell_type": "code",
      "metadata": {
        "id": "UNECVYolYP_S"
      },
      "source": [
        ""
      ],
      "execution_count": null,
      "outputs": []
    }
  ]
}